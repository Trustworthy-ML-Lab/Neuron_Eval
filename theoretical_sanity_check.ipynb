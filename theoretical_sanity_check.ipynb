{
 "cells": [
  {
   "cell_type": "code",
   "execution_count": 1,
   "id": "e5defd09-da1e-4a07-a9ef-6e432b327fb4",
   "metadata": {},
   "outputs": [
    {
     "name": "stderr",
     "output_type": "stream",
     "text": [
      "d:\\Programs\\Miniconda\\envs\\pytorch2\\Lib\\site-packages\\torchaudio\\backend\\utils.py:74: UserWarning: No audio backend is available.\n",
      "  warnings.warn(\"No audio backend is available.\")\n"
     ]
    }
   ],
   "source": [
    "import torch\n",
    "from matplotlib import pyplot as plt\n",
    "\n",
    "import metrics"
   ]
  },
  {
   "cell_type": "markdown",
   "id": "7d87fa9c",
   "metadata": {},
   "source": [
    "## Test parameters"
   ]
  },
  {
   "cell_type": "code",
   "execution_count": 2,
   "id": "8f952674-3a3e-49c1-b93c-8e325da8c032",
   "metadata": {},
   "outputs": [],
   "source": [
    "device = \"cuda\"\n",
    "\n",
    "epsilon = 0.001\n",
    "activation_frequencies = torch.tensor([0.499, 0.1, 0.01, 0.001, 0.0001]) #Activation frequencies gamma to test\n",
    "\n",
    "n_inputs = 500000 #How many inputs to simulate, more increases computational cost but reduces randomness. Should be >> 1/activation_freq for smallest\n",
    "n_seeds = 1000 #How many different random seeds to average over when creating missing/extra labels"
   ]
  },
  {
   "cell_type": "code",
   "execution_count": 3,
   "id": "bb5e8352",
   "metadata": {},
   "outputs": [
    {
     "name": "stdout",
     "output_type": "stream",
     "text": [
      "tensor([249500,  50000,   5000,    500,     50], dtype=torch.int32)\n"
     ]
    },
    {
     "data": {
      "text/plain": [
       "Text(0.5, 0, 'Test setting')"
      ]
     },
     "execution_count": 3,
     "metadata": {},
     "output_type": "execute_result"
    },
    {
     "data": {
      "image/png": "[encoded data removed]",
      "text/plain": [
       "<Figure size 640x480 with 1 Axes>"
      ]
     },
     "metadata": {},
     "output_type": "display_data"
    }
   ],
   "source": [
    "nums = (activation_frequencies*n_inputs).int()\n",
    "concept_activations = torch.zeros(n_inputs, len(activation_frequencies), device=device)\n",
    "\n",
    "print(nums)\n",
    "for i, num in enumerate(nums):\n",
    "    concept_activations[:num, i] += 1\n",
    "\n",
    "plt.plot(torch.mean(concept_activations, dim=0).cpu(), \"v\")\n",
    "plt.yscale(\"log\")\n",
    "plt.ylabel(\"Activation freq $\\gamma$\")\n",
    "plt.xlabel(\"Test setting\")"
   ]
  },
  {
   "cell_type": "code",
   "execution_count": 4,
   "id": "0529024d-b8c8-41eb-b121-9e34435af581",
   "metadata": {
    "scrolled": true
   },
   "outputs": [],
   "source": [
    "def missing_labels(concept_act):\n",
    "    mask = torch.rand(concept_act.shape, device=device) > 0.5\n",
    "    concepts_missing = concept_act*mask\n",
    "    return concepts_missing"
   ]
  },
  {
   "cell_type": "code",
   "execution_count": 5,
   "id": "7e488e47-4ac0-4b9c-9943-670d6da5cee2",
   "metadata": {},
   "outputs": [],
   "source": [
    "#makes sure expected number of ones for each concept is doubled in expectation\n",
    "def extra_labels(concept_act):\n",
    "    cutoff = torch.sum(concept_act, dim=0, keepdims=True)/(concept_act.shape[0]-torch.sum(concept_act, dim=0, keepdims=True))\n",
    "    extra = torch.rand(concept_act.shape, device=device) < cutoff\n",
    "    concepts_extra = torch.clamp(concept_act + extra, max=1)\n",
    "    return concepts_extra"
   ]
  },
  {
   "cell_type": "code",
   "execution_count": 6,
   "id": "bb29a44e-8fe5-49a6-866b-cd09af60f8d3",
   "metadata": {},
   "outputs": [],
   "source": [
    "neuron_activations = concept_activations.clone()\n",
    "\n",
    "correct = torch.arange(neuron_activations.shape[1])\n",
    "correct = torch.nn.functional.one_hot(correct, num_classes=concept_activations.shape[1]).to(device)"
   ]
  },
  {
   "cell_type": "markdown",
   "id": "923e9ffb-b449-4672-b45d-c7e7330d63c6",
   "metadata": {},
   "source": [
    "## Testing different methods"
   ]
  },
  {
   "cell_type": "code",
   "execution_count": 7,
   "id": "6120458f",
   "metadata": {},
   "outputs": [],
   "source": [
    "def run_test(explanation_fn, min_val=None, max_val=None, n_samples=n_seeds):\n",
    "    similarities = explanation_fn(neuron_activations, concept_activations)\n",
    "    correct_sims = torch.sum(similarities*correct, dim=1)\n",
    "    missing_diffs = []\n",
    "    extra_diffs = []\n",
    "    for _ in range(n_samples):\n",
    "        concepts_missing = missing_labels(concept_activations)\n",
    "        concepts_extra = extra_labels(concept_activations)\n",
    "        missing_c_sims = explanation_fn(neuron_activations, concepts_missing)\n",
    "        corr_miss_c_sims = torch.sum(missing_c_sims*correct, dim=1)\n",
    "        extra_c_sims = explanation_fn(neuron_activations, concepts_extra)\n",
    "        corr_extra_c_sims = torch.sum(extra_c_sims*correct, dim=1)\n",
    "        \n",
    "        if min_val==None:\n",
    "            min_val = torch.min(torch.cat([similarities, missing_c_sims, extra_c_sims], dim=0))\n",
    "        if max_val==None:\n",
    "            max_val = torch.max(torch.cat([similarities, missing_c_sims, extra_c_sims], dim=0))\n",
    "\n",
    "        missing_diff = (corr_miss_c_sims-correct_sims)/(max_val-min_val)\n",
    "        missing_diffs.append(missing_diff)\n",
    "        \n",
    "        extra_diff = (corr_extra_c_sims-correct_sims)/(max_val-min_val)\n",
    "        extra_diffs.append(extra_diff)\n",
    "\n",
    "    missing_diff = torch.mean(torch.stack(missing_diffs, dim=0), dim=0)\n",
    "    missing_pct = torch.mean(torch.stack(missing_diffs, dim=0)<-epsilon, dim=0, dtype=float)*100\n",
    "    extra_diff = torch.mean(torch.stack(extra_diffs, dim=0), dim=0)\n",
    "    extra_pct = torch.mean(torch.stack(extra_diffs, dim=0)<-epsilon, dim=0, dtype=float)*100\n",
    "    for i, freq in enumerate(activation_frequencies):\n",
    "        print(\"Activation freq:{:.4f}\".format(freq))\n",
    "        print(\"Missing labels test - Avg score diff:{:.4f}, Decrease acc:{:.2f}%\".format(missing_diff[i], missing_pct[i]))\n",
    "        print(\"Extra labels test - Avg score diff:{:.4f}, Decrease acc:{:.2f}%\".format(extra_diff[i], extra_pct[i]))\n",
    "    torch.cuda.empty_cache()\n",
    "\n",
    "def fast_sims(explanation_fn, concept_acts):\n",
    "    correct_ids = torch.argmax(correct, dim=1)\n",
    "    correct_sims = []\n",
    "    for i in range(neuron_activations.shape[1]):\n",
    "        sims = explanation_fn(neuron_activations[:, i:i+1],\n",
    "                                            concept_acts[:, correct_ids[i]:correct_ids[i]+1])\n",
    "        correct_sims.append(sims[0,0])\n",
    "    correct_sims = torch.stack(correct_sims, dim=0)\n",
    "    return correct_sims\n",
    "\n",
    "def run_test_fast(explanation_fn, min_val, max_val, n_samples=1000):\n",
    "    correct_sims = fast_sims(explanation_fn, concept_activations)\n",
    "    missing_diffs = []\n",
    "    extra_diffs = []\n",
    "    for _ in range(n_samples):\n",
    "        concepts_missing = missing_labels(concept_activations)\n",
    "        concepts_extra = extra_labels(concept_activations)\n",
    "        corr_miss_c_sims = fast_sims(explanation_fn, concepts_missing)\n",
    "        corr_extra_c_sims = fast_sims(explanation_fn, concepts_extra)\n",
    "\n",
    "        missing_diff = (corr_miss_c_sims-correct_sims)/(max_val-min_val)\n",
    "        missing_diffs.append(missing_diff)\n",
    "        \n",
    "        extra_diff = (corr_extra_c_sims-correct_sims)/(max_val-min_val)\n",
    "        extra_diffs.append(extra_diff)\n",
    "    missing_diff = torch.mean(torch.stack(missing_diffs, dim=0), dim=0)\n",
    "    missing_pct = torch.mean(torch.stack(missing_diffs, dim=0)<-epsilon, dim=0, dtype=float)*100\n",
    "    extra_diff = torch.mean(torch.stack(extra_diffs, dim=0), dim=0)\n",
    "    extra_pct = torch.mean(torch.stack(extra_diffs, dim=0)<-epsilon, dim=0, dtype=float)*100\n",
    "    for i, freq in enumerate(activation_frequencies):\n",
    "        print(\"Activation freq:{:.4f}\".format(freq))\n",
    "        print(\"Missing labels test - Avg score diff:{:.4f}, Decrease acc:{:.2f}%\".format(missing_diff[i], missing_pct[i]))\n",
    "        print(\"Extra labels test - Avg score diff:{:.4f}, Decrease acc:{:.2f}%\".format(extra_diff[i], extra_pct[i]))\n",
    "    torch.cuda.empty_cache()\n",
    "\n",
    "def run_test_alpha(explanation_fn, min_val=None, max_val=None, use_fast=False):\n",
    "    \"\"\"\n",
    "    for fns with only an alpha parameter. Does not binarize activations as they are already binary.\n",
    "    \"\"\"\n",
    "    if use_fast:\n",
    "        run_test_fast(explanation_fn=lambda x, y: explanation_fn(x, y, alpha=False),\n",
    "                        min_val=min_val, max_val=max_val)\n",
    "    else:\n",
    "        run_test(explanation_fn=lambda x, y: explanation_fn(x, y, alpha=False),\n",
    "                        min_val=min_val, max_val=max_val)\n",
    "\n",
    "def run_test_alpha_lam(explanation_fn, min_val=None, max_val=None):\n",
    "    \"\"\"\n",
    "    Note: uses lmabda=1 for evaluations\n",
    "    \"\"\"\n",
    "    run_test(explanation_fn=lambda x, y: explanation_fn(x, y, alpha=False, lam=1),\n",
    "                       min_val=min_val, max_val=max_val)"
   ]
  },
  {
   "cell_type": "markdown",
   "id": "c68b679d",
   "metadata": {},
   "source": [
    "### Recall"
   ]
  },
  {
   "cell_type": "code",
   "execution_count": 8,
   "id": "c21019b1",
   "metadata": {},
   "outputs": [
    {
     "name": "stdout",
     "output_type": "stream",
     "text": [
      "Activation freq:0.4990\n",
      "Missing labels test - Avg score diff:-0.5000, Decrease acc:100.00%\n",
      "Extra labels test - Avg score diff:0.0000, Decrease acc:0.00%\n",
      "Activation freq:0.1000\n",
      "Missing labels test - Avg score diff:-0.5000, Decrease acc:100.00%\n",
      "Extra labels test - Avg score diff:0.0000, Decrease acc:0.00%\n",
      "Activation freq:0.0100\n",
      "Missing labels test - Avg score diff:-0.5000, Decrease acc:100.00%\n",
      "Extra labels test - Avg score diff:0.0000, Decrease acc:0.00%\n",
      "Activation freq:0.0010\n",
      "Missing labels test - Avg score diff:-0.4992, Decrease acc:100.00%\n",
      "Extra labels test - Avg score diff:0.0000, Decrease acc:0.00%\n",
      "Activation freq:0.0001\n",
      "Missing labels test - Avg score diff:-0.5024, Decrease acc:100.00%\n",
      "Extra labels test - Avg score diff:0.0000, Decrease acc:0.00%\n"
     ]
    }
   ],
   "source": [
    "run_test_alpha(metrics.recall, min_val=0, max_val=1, use_fast=True)"
   ]
  },
  {
   "cell_type": "markdown",
   "id": "b8b5e543",
   "metadata": {},
   "source": [
    "### Precision"
   ]
  },
  {
   "cell_type": "code",
   "execution_count": 9,
   "id": "0162defc",
   "metadata": {},
   "outputs": [
    {
     "name": "stdout",
     "output_type": "stream",
     "text": [
      "Activation freq:0.4990\n",
      "Missing labels test - Avg score diff:0.0000, Decrease acc:0.00%\n",
      "Extra labels test - Avg score diff:-0.5000, Decrease acc:100.00%\n",
      "Activation freq:0.1000\n",
      "Missing labels test - Avg score diff:0.0000, Decrease acc:0.00%\n",
      "Extra labels test - Avg score diff:-0.5000, Decrease acc:100.00%\n",
      "Activation freq:0.0100\n",
      "Missing labels test - Avg score diff:0.0000, Decrease acc:0.00%\n",
      "Extra labels test - Avg score diff:-0.4999, Decrease acc:100.00%\n",
      "Activation freq:0.0010\n",
      "Missing labels test - Avg score diff:0.0000, Decrease acc:0.00%\n",
      "Extra labels test - Avg score diff:-0.5001, Decrease acc:100.00%\n",
      "Activation freq:0.0001\n",
      "Missing labels test - Avg score diff:0.0000, Decrease acc:0.00%\n",
      "Extra labels test - Avg score diff:-0.4974, Decrease acc:100.00%\n"
     ]
    }
   ],
   "source": [
    "run_test_alpha(metrics.precision, min_val=0, max_val=1, use_fast=True)"
   ]
  },
  {
   "cell_type": "markdown",
   "id": "dab61815",
   "metadata": {},
   "source": [
    "### F1-score"
   ]
  },
  {
   "cell_type": "code",
   "execution_count": 10,
   "id": "50e9b3fb",
   "metadata": {},
   "outputs": [
    {
     "name": "stdout",
     "output_type": "stream",
     "text": [
      "Activation freq:0.4990\n",
      "Missing labels test - Avg score diff:-0.3333, Decrease acc:100.00%\n",
      "Extra labels test - Avg score diff:-0.3333, Decrease acc:100.00%\n",
      "Activation freq:0.1000\n",
      "Missing labels test - Avg score diff:-0.3333, Decrease acc:100.00%\n",
      "Extra labels test - Avg score diff:-0.3333, Decrease acc:100.00%\n",
      "Activation freq:0.0100\n",
      "Missing labels test - Avg score diff:-0.3332, Decrease acc:100.00%\n",
      "Extra labels test - Avg score diff:-0.3334, Decrease acc:100.00%\n",
      "Activation freq:0.0010\n",
      "Missing labels test - Avg score diff:-0.3337, Decrease acc:100.00%\n",
      "Extra labels test - Avg score diff:-0.3331, Decrease acc:100.00%\n",
      "Activation freq:0.0001\n",
      "Missing labels test - Avg score diff:-0.3373, Decrease acc:100.00%\n",
      "Extra labels test - Avg score diff:-0.3295, Decrease acc:100.00%\n"
     ]
    }
   ],
   "source": [
    "run_test_alpha(metrics.f1_score, min_val=0, max_val=1, use_fast=True)"
   ]
  },
  {
   "cell_type": "markdown",
   "id": "701d0540",
   "metadata": {},
   "source": [
    "### IoU"
   ]
  },
  {
   "cell_type": "code",
   "execution_count": 11,
   "id": "18c33f3d",
   "metadata": {},
   "outputs": [
    {
     "name": "stdout",
     "output_type": "stream",
     "text": [
      "Activation freq:0.4990\n",
      "Missing labels test - Avg score diff:-0.5000, Decrease acc:100.00%\n",
      "Extra labels test - Avg score diff:-0.5000, Decrease acc:100.00%\n",
      "Activation freq:0.1000\n",
      "Missing labels test - Avg score diff:-0.5001, Decrease acc:100.00%\n",
      "Extra labels test - Avg score diff:-0.5000, Decrease acc:100.00%\n",
      "Activation freq:0.0100\n",
      "Missing labels test - Avg score diff:-0.5000, Decrease acc:100.00%\n",
      "Extra labels test - Avg score diff:-0.4999, Decrease acc:100.00%\n",
      "Activation freq:0.0010\n",
      "Missing labels test - Avg score diff:-0.4999, Decrease acc:100.00%\n",
      "Extra labels test - Avg score diff:-0.4994, Decrease acc:100.00%\n",
      "Activation freq:0.0001\n",
      "Missing labels test - Avg score diff:-0.5012, Decrease acc:100.00%\n",
      "Extra labels test - Avg score diff:-0.4963, Decrease acc:100.00%\n"
     ]
    }
   ],
   "source": [
    "run_test_alpha(metrics.iou, min_val=0, max_val=1, use_fast=True)"
   ]
  },
  {
   "cell_type": "markdown",
   "id": "018b3627",
   "metadata": {},
   "source": [
    "### Accuracy"
   ]
  },
  {
   "cell_type": "code",
   "execution_count": 12,
   "id": "40334fe2",
   "metadata": {},
   "outputs": [
    {
     "name": "stdout",
     "output_type": "stream",
     "text": [
      "Activation freq:0.4990\n",
      "Missing labels test - Avg score diff:-0.2495, Decrease acc:100.00%\n",
      "Extra labels test - Avg score diff:-0.4990, Decrease acc:100.00%\n",
      "Activation freq:0.1000\n",
      "Missing labels test - Avg score diff:-0.0500, Decrease acc:100.00%\n",
      "Extra labels test - Avg score diff:-0.1000, Decrease acc:100.00%\n",
      "Activation freq:0.0100\n",
      "Missing labels test - Avg score diff:-0.0050, Decrease acc:100.00%\n",
      "Extra labels test - Avg score diff:-0.0100, Decrease acc:100.00%\n",
      "Activation freq:0.0010\n",
      "Missing labels test - Avg score diff:-0.0005, Decrease acc:0.00%\n",
      "Extra labels test - Avg score diff:-0.0010, Decrease acc:50.30%\n",
      "Activation freq:0.0001\n",
      "Missing labels test - Avg score diff:-0.0000, Decrease acc:0.00%\n",
      "Extra labels test - Avg score diff:-0.0001, Decrease acc:0.00%\n"
     ]
    }
   ],
   "source": [
    "run_test_alpha(metrics.accuracy, min_val=0, max_val=1, use_fast=True)"
   ]
  },
  {
   "cell_type": "markdown",
   "id": "792f4276",
   "metadata": {},
   "source": [
    "### Balanced accuracy"
   ]
  },
  {
   "cell_type": "code",
   "execution_count": 13,
   "id": "9ac4a372",
   "metadata": {
    "scrolled": true
   },
   "outputs": [
    {
     "name": "stdout",
     "output_type": "stream",
     "text": [
      "Activation freq:0.4990\n",
      "Missing labels test - Avg score diff:-0.2500, Decrease acc:100.00%\n",
      "Extra labels test - Avg score diff:-0.4980, Decrease acc:100.00%\n",
      "Activation freq:0.1000\n",
      "Missing labels test - Avg score diff:-0.2500, Decrease acc:100.00%\n",
      "Extra labels test - Avg score diff:-0.0556, Decrease acc:100.00%\n",
      "Activation freq:0.0100\n",
      "Missing labels test - Avg score diff:-0.2501, Decrease acc:100.00%\n",
      "Extra labels test - Avg score diff:-0.0050, Decrease acc:100.00%\n",
      "Activation freq:0.0010\n",
      "Missing labels test - Avg score diff:-0.2500, Decrease acc:100.00%\n",
      "Extra labels test - Avg score diff:-0.0005, Decrease acc:0.00%\n",
      "Activation freq:0.0001\n",
      "Missing labels test - Avg score diff:-0.2499, Decrease acc:100.00%\n",
      "Extra labels test - Avg score diff:-0.0000, Decrease acc:0.00%\n"
     ]
    }
   ],
   "source": [
    "run_test_alpha(metrics.balanced_accuracy, min_val=0, max_val=1, use_fast=True)"
   ]
  },
  {
   "cell_type": "markdown",
   "id": "ae1e4a90-5fca-409f-89ef-8ba7f9dc2a9d",
   "metadata": {},
   "source": [
    "### Inverse Balanced Accuracy"
   ]
  },
  {
   "cell_type": "code",
   "execution_count": 14,
   "id": "2488518e-3676-4523-a6c4-35810a9c1c42",
   "metadata": {},
   "outputs": [
    {
     "name": "stdout",
     "output_type": "stream",
     "text": [
      "Activation freq:0.4990\n",
      "Missing labels test - Avg score diff:-0.1662, Decrease acc:100.00%\n",
      "Extra labels test - Avg score diff:-0.2500, Decrease acc:100.00%\n",
      "Activation freq:0.1000\n",
      "Missing labels test - Avg score diff:-0.0263, Decrease acc:100.00%\n",
      "Extra labels test - Avg score diff:-0.2500, Decrease acc:100.00%\n",
      "Activation freq:0.0100\n",
      "Missing labels test - Avg score diff:-0.0025, Decrease acc:100.00%\n",
      "Extra labels test - Avg score diff:-0.2500, Decrease acc:100.00%\n",
      "Activation freq:0.0010\n",
      "Missing labels test - Avg score diff:-0.0002, Decrease acc:0.00%\n",
      "Extra labels test - Avg score diff:-0.2497, Decrease acc:100.00%\n",
      "Activation freq:0.0001\n",
      "Missing labels test - Avg score diff:-0.0000, Decrease acc:0.00%\n",
      "Extra labels test - Avg score diff:-0.2488, Decrease acc:100.00%\n"
     ]
    }
   ],
   "source": [
    "run_test_alpha(metrics.inverse_balanced_accuracy, min_val=0, max_val=1, use_fast=True)"
   ]
  },
  {
   "cell_type": "markdown",
   "id": "a43dd853",
   "metadata": {},
   "source": [
    "### AUC"
   ]
  },
  {
   "cell_type": "code",
   "execution_count": 15,
   "id": "5730afe4",
   "metadata": {},
   "outputs": [
    {
     "name": "stdout",
     "output_type": "stream",
     "text": [
      "Activation freq:0.4990\n",
      "Missing labels test - Avg score diff:-0.2500, Decrease acc:100.00%\n",
      "Extra labels test - Avg score diff:-0.7562, Decrease acc:100.00%\n",
      "Activation freq:0.1000\n",
      "Missing labels test - Avg score diff:-0.2500, Decrease acc:100.00%\n",
      "Extra labels test - Avg score diff:-0.0844, Decrease acc:100.00%\n",
      "Activation freq:0.0100\n",
      "Missing labels test - Avg score diff:-0.2501, Decrease acc:100.00%\n",
      "Extra labels test - Avg score diff:-0.0077, Decrease acc:100.00%\n",
      "Activation freq:0.0010\n",
      "Missing labels test - Avg score diff:-0.2498, Decrease acc:100.00%\n",
      "Extra labels test - Avg score diff:-0.0008, Decrease acc:0.00%\n",
      "Activation freq:0.0001\n",
      "Missing labels test - Avg score diff:-0.2503, Decrease acc:100.00%\n",
      "Extra labels test - Avg score diff:-0.0001, Decrease acc:0.00%\n"
     ]
    }
   ],
   "source": [
    "run_test_alpha(metrics.auc, min_val=0, max_val=1, use_fast=True)"
   ]
  },
  {
   "cell_type": "markdown",
   "id": "e735b24f",
   "metadata": {},
   "source": [
    "### Inverse AUC (Classification)"
   ]
  },
  {
   "cell_type": "code",
   "execution_count": 16,
   "id": "9f257c5b",
   "metadata": {},
   "outputs": [
    {
     "name": "stdout",
     "output_type": "stream",
     "text": [
      "Activation freq:0.4990\n",
      "Missing labels test - Avg score diff:-0.1662, Decrease acc:100.00%\n",
      "Extra labels test - Avg score diff:-0.2498, Decrease acc:100.00%\n",
      "Activation freq:0.1000\n",
      "Missing labels test - Avg score diff:-0.0263, Decrease acc:100.00%\n",
      "Extra labels test - Avg score diff:-0.2500, Decrease acc:100.00%\n",
      "Activation freq:0.0100\n",
      "Missing labels test - Avg score diff:-0.0025, Decrease acc:100.00%\n",
      "Extra labels test - Avg score diff:-0.2500, Decrease acc:100.00%\n",
      "Activation freq:0.0010\n",
      "Missing labels test - Avg score diff:-0.0002, Decrease acc:0.00%\n",
      "Extra labels test - Avg score diff:-0.2497, Decrease acc:100.00%\n",
      "Activation freq:0.0001\n",
      "Missing labels test - Avg score diff:-0.0000, Decrease acc:0.00%\n",
      "Extra labels test - Avg score diff:-0.2491, Decrease acc:100.00%\n"
     ]
    }
   ],
   "source": [
    "run_test_fast(metrics.inverse_auc, min_val=0, max_val=1)"
   ]
  },
  {
   "cell_type": "markdown",
   "id": "53a96211",
   "metadata": {},
   "source": [
    "### Correlation"
   ]
  },
  {
   "cell_type": "code",
   "execution_count": 17,
   "id": "163c4274",
   "metadata": {},
   "outputs": [
    {
     "name": "stdout",
     "output_type": "stream",
     "text": [
      "Activation freq:0.4990\n",
      "Missing labels test - Avg score diff:-0.2111, Decrease acc:100.00%\n",
      "Extra labels test - Avg score diff:-0.4776, Decrease acc:100.00%\n",
      "Activation freq:0.1000\n",
      "Missing labels test - Avg score diff:-0.1559, Decrease acc:100.00%\n",
      "Extra labels test - Avg score diff:-0.1667, Decrease acc:100.00%\n",
      "Activation freq:0.0100\n",
      "Missing labels test - Avg score diff:-0.1474, Decrease acc:100.00%\n",
      "Extra labels test - Avg score diff:-0.1482, Decrease acc:100.00%\n",
      "Activation freq:0.0010\n",
      "Missing labels test - Avg score diff:-0.1470, Decrease acc:100.00%\n",
      "Extra labels test - Avg score diff:-0.1466, Decrease acc:100.00%\n",
      "Activation freq:0.0001\n",
      "Missing labels test - Avg score diff:-0.1487, Decrease acc:100.00%\n",
      "Extra labels test - Avg score diff:-0.1460, Decrease acc:100.00%\n"
     ]
    }
   ],
   "source": [
    "run_test_fast(metrics.correlation, min_val=-1, max_val=1)"
   ]
  },
  {
   "cell_type": "markdown",
   "id": "d72ca3ef-716c-470f-a788-3881df18032b",
   "metadata": {},
   "source": [
    "### Correlation top-and-random"
   ]
  },
  {
   "cell_type": "code",
   "execution_count": 18,
   "id": "829b8cea-d1e9-46df-9a37-cea27fe7717e",
   "metadata": {},
   "outputs": [
    {
     "name": "stdout",
     "output_type": "stream",
     "text": [
      "Activation freq:0.4990\n",
      "Missing labels test - Avg score diff:-0.4965, Decrease acc:100.00%\n",
      "Extra labels test - Avg score diff:-0.4926, Decrease acc:100.00%\n",
      "Activation freq:0.1000\n",
      "Missing labels test - Avg score diff:-0.4894, Decrease acc:100.00%\n",
      "Extra labels test - Avg score diff:-0.0289, Decrease acc:93.00%\n",
      "Activation freq:0.0100\n",
      "Missing labels test - Avg score diff:-0.4649, Decrease acc:100.00%\n",
      "Extra labels test - Avg score diff:-0.0024, Decrease acc:20.00%\n",
      "Activation freq:0.0010\n",
      "Missing labels test - Avg score diff:-0.3927, Decrease acc:100.00%\n",
      "Extra labels test - Avg score diff:-0.0003, Decrease acc:2.30%\n",
      "Activation freq:0.0001\n",
      "Missing labels test - Avg score diff:-0.2459, Decrease acc:100.00%\n",
      "Extra labels test - Avg score diff:-0.0000, Decrease acc:0.20%\n"
     ]
    }
   ],
   "source": [
    "run_test_fast(metrics.correlation_top_and_random_binary, min_val=-1, max_val=1)"
   ]
  },
  {
   "cell_type": "markdown",
   "id": "153fcdb0-ee51-4840-9e74-7a29b2cf8f71",
   "metadata": {},
   "source": [
    "### Spearman Correlation"
   ]
  },
  {
   "cell_type": "code",
   "execution_count": 19,
   "id": "ae0a602b-1df4-40d4-9245-5705221fb2f1",
   "metadata": {},
   "outputs": [
    {
     "name": "stdout",
     "output_type": "stream",
     "text": [
      "Activation freq:0.4990\n",
      "Missing labels test - Avg score diff:-0.2000, Decrease acc:100.00%\n",
      "Extra labels test - Avg score diff:-0.5671, Decrease acc:100.00%\n",
      "Activation freq:0.1000\n",
      "Missing labels test - Avg score diff:-0.0676, Decrease acc:100.00%\n",
      "Extra labels test - Avg score diff:-0.0228, Decrease acc:100.00%\n",
      "Activation freq:0.0100\n",
      "Missing labels test - Avg score diff:-0.0079, Decrease acc:100.00%\n",
      "Extra labels test - Avg score diff:-0.0007, Decrease acc:31.40%\n",
      "Activation freq:0.0010\n",
      "Missing labels test - Avg score diff:-0.0011, Decrease acc:55.60%\n",
      "Extra labels test - Avg score diff:-0.0004, Decrease acc:19.10%\n",
      "Activation freq:0.0001\n",
      "Missing labels test - Avg score diff:-0.0004, Decrease acc:19.80%\n",
      "Extra labels test - Avg score diff:-0.0003, Decrease acc:19.00%\n"
     ]
    }
   ],
   "source": [
    "run_test_fast(metrics.spearman_correlation, min_val=-1, max_val=1)"
   ]
  },
  {
   "cell_type": "markdown",
   "id": "65261030-0a02-412e-ac5d-f36ea33ae6b8",
   "metadata": {},
   "source": [
    "### Spearman Correlation top-and-random"
   ]
  },
  {
   "cell_type": "code",
   "execution_count": 20,
   "id": "b449ae72-11d1-49b1-a8cd-cd6313e62ff1",
   "metadata": {},
   "outputs": [
    {
     "name": "stdout",
     "output_type": "stream",
     "text": [
      "Activation freq:0.4990\n",
      "Missing labels test - Avg score diff:-0.1020, Decrease acc:100.00%\n",
      "Extra labels test - Avg score diff:-0.0012, Decrease acc:58.60%\n",
      "Activation freq:0.1000\n",
      "Missing labels test - Avg score diff:-0.0996, Decrease acc:100.00%\n",
      "Extra labels test - Avg score diff:0.0013, Decrease acc:14.20%\n",
      "Activation freq:0.0100\n",
      "Missing labels test - Avg score diff:-0.1099, Decrease acc:100.00%\n",
      "Extra labels test - Avg score diff:-0.0067, Decrease acc:81.30%\n",
      "Activation freq:0.0010\n",
      "Missing labels test - Avg score diff:-0.1464, Decrease acc:100.00%\n",
      "Extra labels test - Avg score diff:-0.0265, Decrease acc:92.00%\n",
      "Activation freq:0.0001\n",
      "Missing labels test - Avg score diff:-0.1431, Decrease acc:99.80%\n",
      "Extra labels test - Avg score diff:0.0535, Decrease acc:0.40%\n"
     ]
    }
   ],
   "source": [
    "run_test_fast(metrics.spearman_correlation_top_and_random_binary, min_val=-1, max_val=1)"
   ]
  },
  {
   "cell_type": "markdown",
   "id": "9b6f98ed",
   "metadata": {},
   "source": [
    "### Cosine"
   ]
  },
  {
   "cell_type": "code",
   "execution_count": 21,
   "id": "ca75062c",
   "metadata": {},
   "outputs": [
    {
     "name": "stdout",
     "output_type": "stream",
     "text": [
      "Activation freq:0.4990\n",
      "Missing labels test - Avg score diff:-0.1465, Decrease acc:100.00%\n",
      "Extra labels test - Avg score diff:-0.1464, Decrease acc:100.00%\n",
      "Activation freq:0.1000\n",
      "Missing labels test - Avg score diff:-0.1464, Decrease acc:100.00%\n",
      "Extra labels test - Avg score diff:-0.1464, Decrease acc:100.00%\n",
      "Activation freq:0.0100\n",
      "Missing labels test - Avg score diff:-0.1464, Decrease acc:100.00%\n",
      "Extra labels test - Avg score diff:-0.1465, Decrease acc:100.00%\n",
      "Activation freq:0.0010\n",
      "Missing labels test - Avg score diff:-0.1466, Decrease acc:100.00%\n",
      "Extra labels test - Avg score diff:-0.1465, Decrease acc:100.00%\n",
      "Activation freq:0.0001\n",
      "Missing labels test - Avg score diff:-0.1490, Decrease acc:100.00%\n",
      "Extra labels test - Avg score diff:-0.1464, Decrease acc:100.00%\n"
     ]
    }
   ],
   "source": [
    "run_test_fast(metrics.cos_sim, min_val=-1, max_val=1)"
   ]
  },
  {
   "cell_type": "markdown",
   "id": "502833b0-1a77-44a3-9b75-43cef6f26ed7",
   "metadata": {},
   "source": [
    "### WPMI"
   ]
  },
  {
   "cell_type": "code",
   "execution_count": 22,
   "id": "18968784",
   "metadata": {},
   "outputs": [
    {
     "name": "stdout",
     "output_type": "stream",
     "text": [
      "Activation freq:0.4990\n",
      "Missing labels test - Avg score diff:-0.3676, Decrease acc:100.00%\n",
      "Extra labels test - Avg score diff:-0.0299, Decrease acc:100.00%\n",
      "Activation freq:0.1000\n",
      "Missing labels test - Avg score diff:-0.3675, Decrease acc:100.00%\n",
      "Extra labels test - Avg score diff:-0.0299, Decrease acc:100.00%\n",
      "Activation freq:0.0100\n",
      "Missing labels test - Avg score diff:-0.3678, Decrease acc:100.00%\n",
      "Extra labels test - Avg score diff:-0.0299, Decrease acc:100.00%\n",
      "Activation freq:0.0010\n",
      "Missing labels test - Avg score diff:-0.3673, Decrease acc:100.00%\n",
      "Extra labels test - Avg score diff:-0.0299, Decrease acc:100.00%\n",
      "Activation freq:0.0001\n",
      "Missing labels test - Avg score diff:-0.3700, Decrease acc:100.00%\n",
      "Extra labels test - Avg score diff:-0.0298, Decrease acc:100.00%\n"
     ]
    }
   ],
   "source": [
    "run_test_alpha_lam(metrics.wpmi)"
   ]
  },
  {
   "cell_type": "markdown",
   "id": "d2e99431-609f-498c-8c96-d2bed093a943",
   "metadata": {},
   "source": [
    "### MAD (Mean Activation Difference)"
   ]
  },
  {
   "cell_type": "code",
   "execution_count": 23,
   "id": "1651db3b-eea0-4f11-8d67-eb32e8277416",
   "metadata": {
    "scrolled": true
   },
   "outputs": [
    {
     "name": "stdout",
     "output_type": "stream",
     "text": [
      "Activation freq:0.4990\n",
      "Missing labels test - Avg score diff:-0.3325, Decrease acc:100.00%\n",
      "Extra labels test - Avg score diff:-0.5000, Decrease acc:100.00%\n",
      "Activation freq:0.1000\n",
      "Missing labels test - Avg score diff:-0.0526, Decrease acc:100.00%\n",
      "Extra labels test - Avg score diff:-0.5000, Decrease acc:100.00%\n",
      "Activation freq:0.0100\n",
      "Missing labels test - Avg score diff:-0.0050, Decrease acc:100.00%\n",
      "Extra labels test - Avg score diff:-0.5002, Decrease acc:100.00%\n",
      "Activation freq:0.0010\n",
      "Missing labels test - Avg score diff:-0.0005, Decrease acc:0.00%\n",
      "Extra labels test - Avg score diff:-0.4999, Decrease acc:100.00%\n",
      "Activation freq:0.0001\n",
      "Missing labels test - Avg score diff:-0.0000, Decrease acc:0.00%\n",
      "Extra labels test - Avg score diff:-0.4984, Decrease acc:100.00%\n"
     ]
    }
   ],
   "source": [
    "run_test(metrics.mad)"
   ]
  },
  {
   "cell_type": "markdown",
   "id": "bfe34f6b",
   "metadata": {},
   "source": [
    "## AUPRC"
   ]
  },
  {
   "cell_type": "code",
   "execution_count": 24,
   "id": "c8889d65-d703-4862-a784-85ed6057c4b0",
   "metadata": {},
   "outputs": [
    {
     "name": "stdout",
     "output_type": "stream",
     "text": [
      "Activation freq:0.4990\n",
      "Missing labels test - Avg score diff:-0.2505, Decrease acc:100.00%\n",
      "Extra labels test - Avg score diff:-0.5000, Decrease acc:100.00%\n",
      "Activation freq:0.1000\n",
      "Missing labels test - Avg score diff:-0.4500, Decrease acc:100.00%\n",
      "Extra labels test - Avg score diff:-0.5000, Decrease acc:100.00%\n",
      "Activation freq:0.0100\n",
      "Missing labels test - Avg score diff:-0.4953, Decrease acc:100.00%\n",
      "Extra labels test - Avg score diff:-0.5000, Decrease acc:100.00%\n",
      "Activation freq:0.0010\n",
      "Missing labels test - Avg score diff:-0.4999, Decrease acc:100.00%\n",
      "Extra labels test - Avg score diff:-0.5002, Decrease acc:100.00%\n",
      "Activation freq:0.0001\n",
      "Missing labels test - Avg score diff:-0.5004, Decrease acc:100.00%\n",
      "Extra labels test - Avg score diff:-0.4981, Decrease acc:100.00%\n"
     ]
    }
   ],
   "source": [
    "run_test_alpha(metrics.auprc, min_val=0, max_val=1, use_fast=True)"
   ]
  },
  {
   "cell_type": "markdown",
   "id": "72cb1390",
   "metadata": {},
   "source": [
    "## Inverse AUPRC"
   ]
  },
  {
   "cell_type": "code",
   "execution_count": 25,
   "id": "8b5e1dca",
   "metadata": {},
   "outputs": [
    {
     "name": "stdout",
     "output_type": "stream",
     "text": [
      "Activation freq:0.4990\n",
      "Missing labels test - Avg score diff:-0.5000, Decrease acc:100.00%\n",
      "Extra labels test - Avg score diff:-0.0010, Decrease acc:52.30%\n",
      "Activation freq:0.1000\n",
      "Missing labels test - Avg score diff:-0.5001, Decrease acc:100.00%\n",
      "Extra labels test - Avg score diff:-0.4000, Decrease acc:100.00%\n",
      "Activation freq:0.0100\n",
      "Missing labels test - Avg score diff:-0.4996, Decrease acc:100.00%\n",
      "Extra labels test - Avg score diff:-0.4898, Decrease acc:100.00%\n",
      "Activation freq:0.0010\n",
      "Missing labels test - Avg score diff:-0.4997, Decrease acc:100.00%\n",
      "Extra labels test - Avg score diff:-0.4985, Decrease acc:100.00%\n",
      "Activation freq:0.0001\n",
      "Missing labels test - Avg score diff:-0.5015, Decrease acc:100.00%\n",
      "Extra labels test - Avg score diff:-0.4971, Decrease acc:100.00%\n"
     ]
    }
   ],
   "source": [
    "run_test_fast(metrics.inverse_auprc, min_val=0, max_val=1)"
   ]
  },
  {
   "cell_type": "markdown",
   "id": "eae53a20",
   "metadata": {},
   "source": [
    "# Appendix: Combination Metrics"
   ]
  },
  {
   "cell_type": "code",
   "execution_count": 26,
   "id": "aa9de9dd",
   "metadata": {},
   "outputs": [
    {
     "name": "stdout",
     "output_type": "stream",
     "text": [
      "Activation freq:0.4990\n",
      "Missing labels test - Avg score diff:-0.2104, Decrease acc:100.00%\n",
      "Extra labels test - Avg score diff:-0.6320, Decrease acc:100.00%\n",
      "Activation freq:0.1000\n",
      "Missing labels test - Avg score diff:-0.1527, Decrease acc:100.00%\n",
      "Extra labels test - Avg score diff:-0.1754, Decrease acc:100.00%\n",
      "Activation freq:0.0100\n",
      "Missing labels test - Avg score diff:-0.1438, Decrease acc:100.00%\n",
      "Extra labels test - Avg score diff:-0.1458, Decrease acc:100.00%\n",
      "Activation freq:0.0010\n",
      "Missing labels test - Avg score diff:-0.1437, Decrease acc:100.00%\n",
      "Extra labels test - Avg score diff:-0.1428, Decrease acc:100.00%\n",
      "Activation freq:0.0001\n",
      "Missing labels test - Avg score diff:-0.1427, Decrease acc:100.00%\n",
      "Extra labels test - Avg score diff:-0.1430, Decrease acc:100.00%\n"
     ]
    }
   ],
   "source": [
    "run_test_alpha(metrics.combined_auc, min_val=0, max_val=1, use_fast=True)"
   ]
  },
  {
   "cell_type": "code",
   "execution_count": 27,
   "id": "463a4c93",
   "metadata": {},
   "outputs": [
    {
     "name": "stdout",
     "output_type": "stream",
     "text": [
      "Activation freq:0.4990\n",
      "Missing labels test - Avg score diff:-0.2103, Decrease acc:100.00%\n",
      "Extra labels test - Avg score diff:-0.3986, Decrease acc:100.00%\n",
      "Activation freq:0.1000\n",
      "Missing labels test - Avg score diff:-0.1527, Decrease acc:100.00%\n",
      "Extra labels test - Avg score diff:-0.1639, Decrease acc:100.00%\n",
      "Activation freq:0.0100\n",
      "Missing labels test - Avg score diff:-0.1438, Decrease acc:100.00%\n",
      "Extra labels test - Avg score diff:-0.1447, Decrease acc:100.00%\n",
      "Activation freq:0.0010\n",
      "Missing labels test - Avg score diff:-0.1430, Decrease acc:100.00%\n",
      "Extra labels test - Avg score diff:-0.1433, Decrease acc:100.00%\n",
      "Activation freq:0.0001\n",
      "Missing labels test - Avg score diff:-0.1438, Decrease acc:100.00%\n",
      "Extra labels test - Avg score diff:-0.1426, Decrease acc:100.00%\n"
     ]
    }
   ],
   "source": [
    "run_test_alpha(metrics.combined_balanced_acc, min_val=0, max_val=1, use_fast=True)"
   ]
  },
  {
   "cell_type": "code",
   "execution_count": 28,
   "id": "3c0e0c0f",
   "metadata": {},
   "outputs": [
    {
     "name": "stdout",
     "output_type": "stream",
     "text": [
      "Activation freq:0.4990\n",
      "Missing labels test - Avg score diff:-0.4000, Decrease acc:100.00%\n",
      "Extra labels test - Avg score diff:-0.6080, Decrease acc:100.00%\n",
      "Activation freq:0.1000\n",
      "Missing labels test - Avg score diff:-0.3999, Decrease acc:100.00%\n",
      "Extra labels test - Avg score diff:-0.0440, Decrease acc:100.00%\n",
      "Activation freq:0.0100\n",
      "Missing labels test - Avg score diff:-0.3996, Decrease acc:100.00%\n",
      "Extra labels test - Avg score diff:-0.0038, Decrease acc:100.00%\n",
      "Activation freq:0.0010\n",
      "Missing labels test - Avg score diff:-0.4003, Decrease acc:100.00%\n",
      "Extra labels test - Avg score diff:-0.0004, Decrease acc:0.00%\n",
      "Activation freq:0.0001\n",
      "Missing labels test - Avg score diff:-0.4033, Decrease acc:100.00%\n",
      "Extra labels test - Avg score diff:-0.0000, Decrease acc:0.00%\n"
     ]
    }
   ],
   "source": [
    "run_test_alpha(metrics.recall_auc, min_val=0, max_val=1, use_fast=True)"
   ]
  },
  {
   "cell_type": "code",
   "execution_count": 29,
   "id": "64a270ce",
   "metadata": {},
   "outputs": [
    {
     "name": "stdout",
     "output_type": "stream",
     "text": [
      "Activation freq:0.4990\n",
      "Missing labels test - Avg score diff:-0.3749, Decrease acc:100.00%\n",
      "Extra labels test - Avg score diff:-0.1428, Decrease acc:100.00%\n",
      "Activation freq:0.1000\n",
      "Missing labels test - Avg score diff:-0.3393, Decrease acc:100.00%\n",
      "Extra labels test - Avg score diff:-0.1428, Decrease acc:100.00%\n",
      "Activation freq:0.0100\n",
      "Missing labels test - Avg score diff:-0.3342, Decrease acc:100.00%\n",
      "Extra labels test - Avg score diff:-0.1428, Decrease acc:100.00%\n",
      "Activation freq:0.0010\n",
      "Missing labels test - Avg score diff:-0.3339, Decrease acc:100.00%\n",
      "Extra labels test - Avg score diff:-0.1427, Decrease acc:100.00%\n",
      "Activation freq:0.0001\n",
      "Missing labels test - Avg score diff:-0.3330, Decrease acc:100.00%\n",
      "Extra labels test - Avg score diff:-0.1425, Decrease acc:100.00%\n"
     ]
    }
   ],
   "source": [
    "run_test_alpha(metrics.recall_inv_auc, min_val=0, max_val=1, use_fast=True)"
   ]
  },
  {
   "cell_type": "code",
   "execution_count": 30,
   "id": "333396b2",
   "metadata": {},
   "outputs": [
    {
     "name": "stdout",
     "output_type": "stream",
     "text": [
      "Activation freq:0.4990\n",
      "Missing labels test - Avg score diff:-0.1429, Decrease acc:100.00%\n",
      "Extra labels test - Avg score diff:-0.4990, Decrease acc:100.00%\n",
      "Activation freq:0.1000\n",
      "Missing labels test - Avg score diff:-0.1428, Decrease acc:100.00%\n",
      "Extra labels test - Avg score diff:-0.3462, Decrease acc:100.00%\n",
      "Activation freq:0.0100\n",
      "Missing labels test - Avg score diff:-0.1430, Decrease acc:100.00%\n",
      "Extra labels test - Avg score diff:-0.3346, Decrease acc:100.00%\n",
      "Activation freq:0.0010\n",
      "Missing labels test - Avg score diff:-0.1433, Decrease acc:100.00%\n",
      "Extra labels test - Avg score diff:-0.3333, Decrease acc:100.00%\n",
      "Activation freq:0.0001\n",
      "Missing labels test - Avg score diff:-0.1439, Decrease acc:100.00%\n",
      "Extra labels test - Avg score diff:-0.3301, Decrease acc:100.00%\n"
     ]
    }
   ],
   "source": [
    "run_test_alpha(metrics.precision_bal_acc, min_val=0, max_val=1, use_fast=True)"
   ]
  },
  {
   "cell_type": "code",
   "execution_count": 31,
   "id": "643ebafb",
   "metadata": {},
   "outputs": [
    {
     "name": "stdout",
     "output_type": "stream",
     "text": [
      "Activation freq:0.4990\n",
      "Missing labels test - Avg score diff:-0.0906, Decrease acc:100.00%\n",
      "Extra labels test - Avg score diff:-0.4000, Decrease acc:100.00%\n",
      "Activation freq:0.1000\n",
      "Missing labels test - Avg score diff:-0.0133, Decrease acc:100.00%\n",
      "Extra labels test - Avg score diff:-0.4000, Decrease acc:100.00%\n",
      "Activation freq:0.0100\n",
      "Missing labels test - Avg score diff:-0.0013, Decrease acc:100.00%\n",
      "Extra labels test - Avg score diff:-0.4001, Decrease acc:100.00%\n",
      "Activation freq:0.0010\n",
      "Missing labels test - Avg score diff:-0.0001, Decrease acc:0.00%\n",
      "Extra labels test - Avg score diff:-0.3998, Decrease acc:100.00%\n",
      "Activation freq:0.0001\n",
      "Missing labels test - Avg score diff:-0.0000, Decrease acc:0.00%\n",
      "Extra labels test - Avg score diff:-0.3968, Decrease acc:100.00%\n"
     ]
    }
   ],
   "source": [
    "run_test_alpha(metrics.precision_inverse_bal_acc, min_val=0, max_val=1, use_fast=True)"
   ]
  },
  {
   "cell_type": "code",
   "execution_count": null,
   "id": "8c124611",
   "metadata": {},
   "outputs": [],
   "source": []
  }
 ],
 "metadata": {
  "kernelspec": {
   "display_name": "pytorch2",
   "language": "python",
   "name": "python3"
  },
  "language_info": {
   "codemirror_mode": {
    "name": "ipython",
    "version": 3
   },
   "file_extension": ".py",
   "mimetype": "text/x-python",
   "name": "python",
   "nbconvert_exporter": "python",
   "pygments_lexer": "ipython3",
   "version": "3.11.3"
  }
 },
 "nbformat": 4,
 "nbformat_minor": 5
}
